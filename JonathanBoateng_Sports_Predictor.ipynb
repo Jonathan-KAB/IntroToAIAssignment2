{
 "cells": [
  {
   "cell_type": "code",
   "execution_count": 1,
   "id": "d2239e91-25fe-4f80-a9ac-a4c6401f9032",
   "metadata": {
    "id": "d2239e91-25fe-4f80-a9ac-a4c6401f9032",
    "tags": []
   },
   "outputs": [],
   "source": [
    "import pandas as pd\n",
    "import numpy as np\n",
    "from sklearn.impute import SimpleImputer\n",
    "from sklearn.preprocessing import StandardScaler\n",
    "from sklearn.compose import ColumnTransformer\n",
    "from sklearn.pipeline import Pipeline\n",
    "from sklearn.ensemble import RandomForestRegressor\n",
    "from sklearn.model_selection import train_test_split\n",
    "from sklearn.metrics import mean_squared_error, r2_score\n",
    "from sklearn.feature_selection import SelectFromModel\n",
    "from category_encoders import TargetEncoder"
   ]
  },
  {
   "cell_type": "code",
   "execution_count": 38,
   "id": "6b37b89f-2d4d-4d61-ae33-ebf58a21ac95",
   "metadata": {
    "tags": []
   },
   "outputs": [],
   "source": [
    "def preprocess_data(file_path, n_features=1000):\n",
    "    # Load the CSV file\n",
    "    fifdb = pd.read_csv(file_path)\n",
    "    \n",
    "    print(f\"Initial shape: {fifdb.shape}\")\n",
    "    \n",
    "    # Dropping specified columns\n",
    "    columns_to_drop = [\n",
    "        'player_url', 'value_eur', 'wage_eur', 'player_face_url', 'club_flag_url', 'nation_logo_url', \n",
    "        'nation_flag_url', 'club_logo_url', 'club_team_id'\n",
    "    ]\n",
    "    new_fifdb = fifdb.drop(columns_to_drop, axis=1)\n",
    "    \n",
    "    print(f\"Shape after dropping columns: {new_fifdb.shape}\")\n",
    "    \n",
    "    # Extracting the 'overall' column as the target variable (y)\n",
    "    y = new_fifdb['overall']\n",
    "    \n",
    "    # Dropping 'overall' from the features\n",
    "    new_fifdb.drop('overall', axis=1, inplace=True)\n",
    "    \n",
    "    # Identify numeric and categorical columns\n",
    "    numeric_features = new_fifdb.select_dtypes(include=[np.number]).columns\n",
    "    categorical_features = new_fifdb.select_dtypes(include=['object']).columns\n",
    "    \n",
    "    print(f\"Number of numeric features: {len(numeric_features)}\")\n",
    "    print(f\"Number of categorical features: {len(categorical_features)}\")\n",
    "    \n",
    "    # Handle high-cardinality categorical variables\n",
    "    for col in categorical_features:\n",
    "        if new_fifdb[col].nunique() > 100:  # Adjust this threshold as needed\n",
    "            top_100 = new_fifdb[col].value_counts().nlargest(100).index\n",
    "            new_fifdb[col] = new_fifdb[col].where(new_fifdb[col].isin(top_100), 'Other')\n",
    "    \n",
    "    # Defining pipelines for numeric and categorical data\n",
    "    numeric_pipe = Pipeline([\n",
    "        (\"impute\", SimpleImputer(strategy=\"median\")),\n",
    "        (\"standardize\", StandardScaler())\n",
    "    ])\n",
    "    \n",
    "    categorical_pipe = Pipeline([\n",
    "        (\"impute\", SimpleImputer(strategy=\"constant\", fill_value=\"missing\")),\n",
    "        (\"encoding\", TargetEncoder())\n",
    "    ])\n",
    "    \n",
    "    # Combining pipelines into a ColumnTransformer\n",
    "    preprocessor = ColumnTransformer([\n",
    "        (\"num\", numeric_pipe, numeric_features),\n",
    "        (\"cat\", categorical_pipe, categorical_features)\n",
    "    ])\n",
    "    \n",
    "    # Feature selection\n",
    "    selector = SelectFromModel(RandomForestRegressor(n_estimators=100, random_state=42), \n",
    "                               max_features=n_features, threshold=-np.inf)\n",
    "    \n",
    "    # Combine preprocessing and feature selection\n",
    "    full_pipeline = Pipeline([\n",
    "        (\"preprocess\", preprocessor),\n",
    "        (\"select\", selector)\n",
    "    ])\n",
    "    \n",
    "    # Fit and transform the data\n",
    "    X = full_pipeline.fit_transform(new_fifdb, y)\n",
    "    \n",
    "    print(f\"Final shape of X: {X.shape}\")\n",
    "    print(f\"Shape of y: {y.shape}\")\n",
    "    \n",
    "    return X, y, full_pipeline"
   ]
  },
  {
   "cell_type": "code",
   "execution_count": 40,
   "id": "3d47bcf2-966f-4725-b77d-ce4aaa5b08cc",
   "metadata": {
    "tags": []
   },
   "outputs": [
    {
     "name": "stdout",
     "output_type": "stream",
     "text": [
      "Initial shape: (18944, 110)\n",
      "Shape after dropping columns: (18944, 101)\n",
      "Number of numeric features: 56\n",
      "Number of categorical features: 44\n",
      "Final shape of X: (18944, 10)\n",
      "Shape of y: (18944,)\n"
     ]
    }
   ],
   "source": [
    "X, y, pipeline = preprocess_data('players_21.csv', n_features=10)"
   ]
  },
  {
   "cell_type": "code",
   "execution_count": 41,
   "id": "aeb23628-9ce2-4a00-bace-147dfcf629b6",
   "metadata": {
    "tags": []
   },
   "outputs": [
    {
     "name": "stdout",
     "output_type": "stream",
     "text": [
      "[[ 3.58656347  1.65505537 13.6766265  ... 69.20293324 69.20293324\n",
      "  71.15777312]\n",
      " [ 3.42289263  2.08083818  7.31050289 ... 69.20293324 69.20293324\n",
      "  70.1066804 ]\n",
      " [ 3.25922178  1.22927256 13.02473545 ... 69.85938385 69.85938385\n",
      "  70.1066804 ]\n",
      " ...\n",
      " [-3.94229527  0.59059834 -0.41573031 ... 61.84210527 61.84210527\n",
      "  72.92971246]\n",
      " [-0.66887843 -1.75120712 -0.40371107 ... 60.95833333 60.95833333\n",
      "  57.14486902]\n",
      " [-0.66887843 -1.75120712 -0.40371107 ... 60.95833333 60.95833333\n",
      "  61.79867987]] 0        93\n",
      "1        92\n",
      "2        91\n",
      "3        91\n",
      "4        91\n",
      "         ..\n",
      "18939    47\n",
      "18940    47\n",
      "18941    47\n",
      "18942    47\n",
      "18943    47\n",
      "Name: overall, Length: 18944, dtype: int64\n"
     ]
    }
   ],
   "source": [
    "print(X, y)"
   ]
  },
  {
   "cell_type": "code",
   "execution_count": 44,
   "id": "fe2a6fa4-56b3-4846-b823-2c21e830d0d3",
   "metadata": {
    "tags": []
   },
   "outputs": [
    {
     "data": {
      "text/plain": [
       "(18944, 10)"
      ]
     },
     "execution_count": 44,
     "metadata": {},
     "output_type": "execute_result"
    }
   ],
   "source": [
    "X.shape"
   ]
  },
  {
   "cell_type": "code",
   "execution_count": 46,
   "id": "53d20767-39a1-48c3-b986-8a803c0b0fda",
   "metadata": {
    "tags": []
   },
   "outputs": [
    {
     "data": {
      "text/plain": [
       "(18944,)"
      ]
     },
     "execution_count": 46,
     "metadata": {},
     "output_type": "execute_result"
    }
   ],
   "source": [
    "y.shape"
   ]
  },
  {
   "cell_type": "code",
   "execution_count": 303,
   "id": "8dba8bc5-da57-4112-bc7e-e1ffb4790c50",
   "metadata": {
    "tags": []
   },
   "outputs": [
    {
     "data": {
      "text/plain": [
       "25    88\n",
       "26    88\n",
       "27    88\n",
       "28    87\n",
       "29    87\n",
       "30    87\n",
       "31    87\n",
       "32    87\n",
       "33    87\n",
       "34    87\n",
       "35    87\n",
       "36    87\n",
       "37    87\n",
       "38    87\n",
       "39    87\n",
       "40    87\n",
       "41    87\n",
       "42    87\n",
       "43    87\n",
       "44    87\n",
       "45    87\n",
       "46    87\n",
       "47    87\n",
       "48    86\n",
       "49    86\n",
       "Name: overall, dtype: int64"
      ]
     },
     "execution_count": 303,
     "metadata": {},
     "output_type": "execute_result"
    }
   ],
   "source": [
    "y.iloc[25:50]"
   ]
  },
  {
   "cell_type": "markdown",
   "id": "5EEexzcrQFTO",
   "metadata": {
    "id": "5EEexzcrQFTO"
   },
   "source": [
    "### Train-Test Split"
   ]
  },
  {
   "cell_type": "code",
   "execution_count": 48,
   "id": "XIyGKOQoQIAC",
   "metadata": {
    "id": "XIyGKOQoQIAC"
   },
   "outputs": [],
   "source": [
    "from sklearn.model_selection import train_test_split"
   ]
  },
  {
   "cell_type": "code",
   "execution_count": 50,
   "id": "RxJu7GOPQJO1",
   "metadata": {
    "id": "RxJu7GOPQJO1"
   },
   "outputs": [],
   "source": [
    "Xtrain,Xtest,Ytrain,Ytest = train_test_split(X, y, test_size=0.2, random_state=42)"
   ]
  },
  {
   "cell_type": "code",
   "execution_count": 52,
   "id": "CZ7xI0UaxTFa",
   "metadata": {
    "id": "CZ7xI0UaxTFa"
   },
   "outputs": [],
   "source": [
    "from sklearn.tree import DecisionTreeClassifier\n",
    "from sklearn.neighbors import KNeighborsClassifier\n",
    "from sklearn.svm import SVC\n",
    "from sklearn.naive_bayes import GaussianNB"
   ]
  },
  {
   "cell_type": "code",
   "execution_count": 54,
   "id": "WdPtZnWdU38P",
   "metadata": {
    "id": "WdPtZnWdU38P"
   },
   "outputs": [],
   "source": [
    "dt = DecisionTreeClassifier(criterion='entropy')\n",
    "knn = KNeighborsClassifier(n_neighbors=7)\n",
    "sv = SVC(probability=True)\n",
    "nb = GaussianNB()"
   ]
  },
  {
   "cell_type": "markdown",
   "id": "d1b8765d-54ba-4b14-89cf-9e7d4193dc85",
   "metadata": {},
   "source": [
    "### Regression\n",
    "**Regressors used**\n",
    "* Multilinear Regression\n",
    "* Decision Tree"
   ]
  },
  {
   "cell_type": "markdown",
   "id": "00fb8b4d-667c-457e-8602-9d0ea212ddf2",
   "metadata": {},
   "source": [
    "#### Multilinear Regression"
   ]
  },
  {
   "cell_type": "code",
   "execution_count": 58,
   "id": "b68a6869-254b-40ee-b34b-d6f08b0d2c5f",
   "metadata": {
    "tags": []
   },
   "outputs": [],
   "source": [
    "from sklearn.linear_model import LinearRegression"
   ]
  },
  {
   "cell_type": "code",
   "execution_count": 60,
   "id": "FYmXlzthU5wl",
   "metadata": {
    "id": "FYmXlzthU5wl"
   },
   "outputs": [],
   "source": [
    "l = LinearRegression()"
   ]
  },
  {
   "cell_type": "code",
   "execution_count": 62,
   "id": "3mY6zs-XU8B5",
   "metadata": {
    "id": "3mY6zs-XU8B5"
   },
   "outputs": [
    {
     "data": {
      "text/html": [
       "<style>#sk-container-id-3 {color: black;background-color: white;}#sk-container-id-3 pre{padding: 0;}#sk-container-id-3 div.sk-toggleable {background-color: white;}#sk-container-id-3 label.sk-toggleable__label {cursor: pointer;display: block;width: 100%;margin-bottom: 0;padding: 0.3em;box-sizing: border-box;text-align: center;}#sk-container-id-3 label.sk-toggleable__label-arrow:before {content: \"▸\";float: left;margin-right: 0.25em;color: #696969;}#sk-container-id-3 label.sk-toggleable__label-arrow:hover:before {color: black;}#sk-container-id-3 div.sk-estimator:hover label.sk-toggleable__label-arrow:before {color: black;}#sk-container-id-3 div.sk-toggleable__content {max-height: 0;max-width: 0;overflow: hidden;text-align: left;background-color: #f0f8ff;}#sk-container-id-3 div.sk-toggleable__content pre {margin: 0.2em;color: black;border-radius: 0.25em;background-color: #f0f8ff;}#sk-container-id-3 input.sk-toggleable__control:checked~div.sk-toggleable__content {max-height: 200px;max-width: 100%;overflow: auto;}#sk-container-id-3 input.sk-toggleable__control:checked~label.sk-toggleable__label-arrow:before {content: \"▾\";}#sk-container-id-3 div.sk-estimator input.sk-toggleable__control:checked~label.sk-toggleable__label {background-color: #d4ebff;}#sk-container-id-3 div.sk-label input.sk-toggleable__control:checked~label.sk-toggleable__label {background-color: #d4ebff;}#sk-container-id-3 input.sk-hidden--visually {border: 0;clip: rect(1px 1px 1px 1px);clip: rect(1px, 1px, 1px, 1px);height: 1px;margin: -1px;overflow: hidden;padding: 0;position: absolute;width: 1px;}#sk-container-id-3 div.sk-estimator {font-family: monospace;background-color: #f0f8ff;border: 1px dotted black;border-radius: 0.25em;box-sizing: border-box;margin-bottom: 0.5em;}#sk-container-id-3 div.sk-estimator:hover {background-color: #d4ebff;}#sk-container-id-3 div.sk-parallel-item::after {content: \"\";width: 100%;border-bottom: 1px solid gray;flex-grow: 1;}#sk-container-id-3 div.sk-label:hover label.sk-toggleable__label {background-color: #d4ebff;}#sk-container-id-3 div.sk-serial::before {content: \"\";position: absolute;border-left: 1px solid gray;box-sizing: border-box;top: 0;bottom: 0;left: 50%;z-index: 0;}#sk-container-id-3 div.sk-serial {display: flex;flex-direction: column;align-items: center;background-color: white;padding-right: 0.2em;padding-left: 0.2em;position: relative;}#sk-container-id-3 div.sk-item {position: relative;z-index: 1;}#sk-container-id-3 div.sk-parallel {display: flex;align-items: stretch;justify-content: center;background-color: white;position: relative;}#sk-container-id-3 div.sk-item::before, #sk-container-id-3 div.sk-parallel-item::before {content: \"\";position: absolute;border-left: 1px solid gray;box-sizing: border-box;top: 0;bottom: 0;left: 50%;z-index: -1;}#sk-container-id-3 div.sk-parallel-item {display: flex;flex-direction: column;z-index: 1;position: relative;background-color: white;}#sk-container-id-3 div.sk-parallel-item:first-child::after {align-self: flex-end;width: 50%;}#sk-container-id-3 div.sk-parallel-item:last-child::after {align-self: flex-start;width: 50%;}#sk-container-id-3 div.sk-parallel-item:only-child::after {width: 0;}#sk-container-id-3 div.sk-dashed-wrapped {border: 1px dashed gray;margin: 0 0.4em 0.5em 0.4em;box-sizing: border-box;padding-bottom: 0.4em;background-color: white;}#sk-container-id-3 div.sk-label label {font-family: monospace;font-weight: bold;display: inline-block;line-height: 1.2em;}#sk-container-id-3 div.sk-label-container {text-align: center;}#sk-container-id-3 div.sk-container {/* jupyter's `normalize.less` sets `[hidden] { display: none; }` but bootstrap.min.css set `[hidden] { display: none !important; }` so we also need the `!important` here to be able to override the default hidden behavior on the sphinx rendered scikit-learn.org. See: https://github.com/scikit-learn/scikit-learn/issues/21755 */display: inline-block !important;position: relative;}#sk-container-id-3 div.sk-text-repr-fallback {display: none;}</style><div id=\"sk-container-id-3\" class=\"sk-top-container\"><div class=\"sk-text-repr-fallback\"><pre>LinearRegression()</pre><b>In a Jupyter environment, please rerun this cell to show the HTML representation or trust the notebook. <br />On GitHub, the HTML representation is unable to render, please try loading this page with nbviewer.org.</b></div><div class=\"sk-container\" hidden><div class=\"sk-item\"><div class=\"sk-estimator sk-toggleable\"><input class=\"sk-toggleable__control sk-hidden--visually\" id=\"sk-estimator-id-3\" type=\"checkbox\" checked><label for=\"sk-estimator-id-3\" class=\"sk-toggleable__label sk-toggleable__label-arrow\">LinearRegression</label><div class=\"sk-toggleable__content\"><pre>LinearRegression()</pre></div></div></div></div></div>"
      ],
      "text/plain": [
       "LinearRegression()"
      ]
     },
     "execution_count": 62,
     "metadata": {},
     "output_type": "execute_result"
    }
   ],
   "source": [
    "# Learning association between X and Y\n",
    "l.fit(Xtrain, Ytrain)"
   ]
  },
  {
   "cell_type": "code",
   "execution_count": 64,
   "id": "e4c1e7c4-97cf-4ad8-a845-18df14074898",
   "metadata": {
    "tags": []
   },
   "outputs": [],
   "source": [
    "y_pred = l.predict(Xtest)"
   ]
  },
  {
   "cell_type": "code",
   "execution_count": 66,
   "id": "5c5b2c4a-8a9b-424d-a071-2883a6dd264e",
   "metadata": {
    "tags": []
   },
   "outputs": [],
   "source": [
    "intercept = l.intercept_\n",
    "coefficients = l.coef_"
   ]
  },
  {
   "cell_type": "code",
   "execution_count": 68,
   "id": "565de85b-b022-4d94-b8d2-129adc1c61cc",
   "metadata": {
    "tags": []
   },
   "outputs": [
    {
     "name": "stdout",
     "output_type": "stream",
     "text": [
      "Intercept: 45.82959096140644\n",
      "Coefficients: [ 3.19462873e+00  2.75028047e+00  5.92812627e-01  3.29345041e-01\n",
      "  1.87709020e+00  2.14430273e-01 -6.53364175e+12  3.26661915e+12\n",
      "  3.26702261e+12  8.81850569e-02]\n"
     ]
    }
   ],
   "source": [
    "print(f\"Intercept: {intercept}\")\n",
    "print(f\"Coefficients: {coefficients}\")"
   ]
  },
  {
   "cell_type": "code",
   "execution_count": 70,
   "id": "313e4c0d-bf8c-4e1c-8c47-5a1514db4a95",
   "metadata": {
    "tags": []
   },
   "outputs": [],
   "source": [
    "import numpy as np\n",
    "from sklearn.metrics import mean_absolute_error, mean_squared_error, mean_squared_log_error, r2_score"
   ]
  },
  {
   "cell_type": "code",
   "execution_count": 72,
   "id": "e25730be-3059-4437-848d-6abdc99f4637",
   "metadata": {
    "tags": []
   },
   "outputs": [
    {
     "name": "stdout",
     "output_type": "stream",
     "text": [
      "\n",
      "Mean Absolute Error = 1.640427891932025,\n",
      "Mean Squared Error = 4.432451044256416,\n",
      "Root Mean Squared Error = 2.1053387006029256,\n",
      "R2 Score = 0.8968363084049331\n",
      "\n"
     ]
    }
   ],
   "source": [
    "print(f\"\"\"\n",
    "Mean Absolute Error = {mean_absolute_error(y_pred,Ytest)},\n",
    "Mean Squared Error = {mean_squared_error(y_pred,Ytest)},\n",
    "Root Mean Squared Error = {np.sqrt(mean_squared_error(y_pred,Ytest))},\n",
    "R2 Score = {r2_score(y_pred,Ytest)}\n",
    "\"\"\")"
   ]
  },
  {
   "cell_type": "markdown",
   "id": "618773a5-84f1-444a-9fa3-dc46552d2555",
   "metadata": {
    "tags": []
   },
   "source": [
    "#### Decision Tree"
   ]
  },
  {
   "cell_type": "code",
   "execution_count": 75,
   "id": "8b6b5035-c261-48df-ae26-7e391a9fb755",
   "metadata": {
    "tags": []
   },
   "outputs": [],
   "source": [
    "from sklearn.tree import DecisionTreeRegressor\n",
    "dtree = DecisionTreeRegressor(max_depth = 15)\n",
    "dtree.fit(Xtrain, Ytrain)\n",
    "\n",
    "# Model testing\n",
    "y_pred = dtree.predict(Xtest)"
   ]
  },
  {
   "cell_type": "code",
   "execution_count": 77,
   "id": "4f7744a0-cc69-462e-b2de-2b82245814f3",
   "metadata": {
    "tags": []
   },
   "outputs": [
    {
     "name": "stdout",
     "output_type": "stream",
     "text": [
      "\n",
      "Mean Absolute Error = 0.6477816709240474,\n",
      "Mean Squared Error = 1.171374955028769,\n",
      "Root Mean Squared Error = 1.0823007692082498,\n",
      "R2 Score = 0.9750480247423183\n",
      "\n"
     ]
    }
   ],
   "source": [
    "print(f\"\"\"\n",
    "Mean Absolute Error = {mean_absolute_error(y_pred,Ytest)},\n",
    "Mean Squared Error = {mean_squared_error(y_pred,Ytest)},\n",
    "Root Mean Squared Error = {np.sqrt(mean_squared_error(y_pred,Ytest))},\n",
    "R2 Score = {r2_score(y_pred,Ytest)}\n",
    "\"\"\")"
   ]
  },
  {
   "cell_type": "markdown",
   "id": "9sPXhwxcVXVF",
   "metadata": {
    "id": "9sPXhwxcVXVF"
   },
   "source": [
    "### Ensemble Classification"
   ]
  },
  {
   "cell_type": "markdown",
   "id": "Zcbgi6PWVtvX",
   "metadata": {
    "id": "Zcbgi6PWVtvX"
   },
   "source": [
    "**Classifers used**\n",
    "* Boosting"
   ]
  },
  {
   "cell_type": "markdown",
   "id": "0a86628e-0843-4809-a6a6-af4b55bf45a7",
   "metadata": {
    "tags": []
   },
   "source": [
    "#### Boosting"
   ]
  },
  {
   "cell_type": "code",
   "execution_count": 82,
   "id": "67488232-327b-43aa-b4c6-93bf3778ce99",
   "metadata": {
    "tags": []
   },
   "outputs": [],
   "source": [
    "import pickle as pkl\n",
    "from sklearn.metrics import accuracy_score, confusion_matrix, classification_report, roc_curve"
   ]
  },
  {
   "cell_type": "code",
   "execution_count": 84,
   "id": "kYtXnoRiWRI9",
   "metadata": {
    "id": "kYtXnoRiWRI9"
   },
   "outputs": [],
   "source": [
    "from sklearn.ensemble import AdaBoostClassifier, GradientBoostingClassifier"
   ]
  },
  {
   "cell_type": "code",
   "execution_count": 86,
   "id": "Xs-SQyOEWlwW",
   "metadata": {
    "id": "Xs-SQyOEWlwW"
   },
   "outputs": [],
   "source": [
    "ada=AdaBoostClassifier(base_estimator=dt,n_estimators=100)\n",
    "gb=GradientBoostingClassifier(n_estimators=100)"
   ]
  },
  {
   "cell_type": "code",
   "execution_count": 88,
   "id": "9tJrOZqjWoIw",
   "metadata": {
    "colab": {
     "base_uri": "https://localhost:8080/"
    },
    "id": "9tJrOZqjWoIw",
    "outputId": "1e9fb92b-a0d4-424e-f895-951395ba3d31"
   },
   "outputs": [
    {
     "name": "stderr",
     "output_type": "stream",
     "text": [
      "/opt/anaconda3/lib/python3.11/site-packages/sklearn/ensemble/_base.py:166: FutureWarning: `base_estimator` was renamed to `estimator` in version 1.2 and will be removed in 1.4.\n",
      "  warnings.warn(\n",
      "/opt/anaconda3/lib/python3.11/site-packages/sklearn/metrics/_classification.py:1344: UndefinedMetricWarning: Precision and F-score are ill-defined and being set to 0.0 in labels with no predicted samples. Use `zero_division` parameter to control this behavior.\n",
      "  _warn_prf(average, modifier, msg_start, len(result))\n",
      "/opt/anaconda3/lib/python3.11/site-packages/sklearn/metrics/_classification.py:1344: UndefinedMetricWarning: Precision and F-score are ill-defined and being set to 0.0 in labels with no predicted samples. Use `zero_division` parameter to control this behavior.\n",
      "  _warn_prf(average, modifier, msg_start, len(result))\n",
      "/opt/anaconda3/lib/python3.11/site-packages/sklearn/metrics/_classification.py:1344: UndefinedMetricWarning: Precision and F-score are ill-defined and being set to 0.0 in labels with no predicted samples. Use `zero_division` parameter to control this behavior.\n",
      "  _warn_prf(average, modifier, msg_start, len(result))\n"
     ]
    },
    {
     "name": "stdout",
     "output_type": "stream",
     "text": [
      "AdaBoostClassifier [[1 0 1 ... 0 0 0]\n",
      " [1 2 4 ... 0 0 0]\n",
      " [0 2 1 ... 0 0 0]\n",
      " ...\n",
      " [0 0 0 ... 1 0 0]\n",
      " [0 0 0 ... 1 0 0]\n",
      " [0 0 0 ... 0 1 0]]               precision    recall  f1-score   support\n",
      "\n",
      "          47       0.25      0.33      0.29         3\n",
      "          48       0.33      0.18      0.24        11\n",
      "          49       0.05      0.12      0.07         8\n",
      "          50       0.35      0.48      0.41        23\n",
      "          51       0.65      0.41      0.50        37\n",
      "          52       0.38      0.39      0.39        46\n",
      "          53       0.38      0.41      0.40        41\n",
      "          54       0.15      0.19      0.17        36\n",
      "          55       0.29      0.24      0.26        66\n",
      "          56       0.30      0.32      0.31        63\n",
      "          57       0.44      0.39      0.41        96\n",
      "          58       0.39      0.39      0.39       105\n",
      "          59       0.41      0.36      0.38       107\n",
      "          60       0.50      0.43      0.46       161\n",
      "          61       0.45      0.51      0.48       148\n",
      "          62       0.55      0.50      0.52       210\n",
      "          63       0.55      0.62      0.58       233\n",
      "          64       0.64      0.60      0.62       219\n",
      "          65       0.57      0.63      0.60       226\n",
      "          66       0.59      0.65      0.61       244\n",
      "          67       0.62      0.55      0.58       247\n",
      "          68       0.61      0.61      0.61       203\n",
      "          69       0.67      0.62      0.64       191\n",
      "          70       0.69      0.77      0.73       176\n",
      "          71       0.64      0.60      0.62       146\n",
      "          72       0.71      0.74      0.72       152\n",
      "          73       0.76      0.75      0.75       115\n",
      "          74       0.73      0.73      0.73        90\n",
      "          75       0.69      0.77      0.73        92\n",
      "          76       0.69      0.56      0.62        66\n",
      "          77       0.75      0.67      0.71        69\n",
      "          78       0.53      0.66      0.58        29\n",
      "          79       0.56      0.69      0.62        26\n",
      "          80       0.61      0.69      0.65        32\n",
      "          81       0.80      0.38      0.52        21\n",
      "          82       0.75      0.67      0.71         9\n",
      "          83       0.57      1.00      0.73         8\n",
      "          84       1.00      0.54      0.70        13\n",
      "          85       0.43      0.75      0.55         4\n",
      "          86       0.67      0.50      0.57         4\n",
      "          87       0.60      0.38      0.46         8\n",
      "          88       0.00      0.00      0.00         1\n",
      "          89       0.00      0.00      0.00         1\n",
      "          90       0.25      1.00      0.40         1\n",
      "          91       0.00      0.00      0.00         1\n",
      "          93       0.00      0.00      0.00         1\n",
      "\n",
      "    accuracy                           0.57      3789\n",
      "   macro avg       0.49      0.49      0.48      3789\n",
      "weighted avg       0.58      0.57      0.57      3789\n",
      "\n",
      "GradientBoostingClassifier [[1 1 1 ... 0 0 0]\n",
      " [0 3 5 ... 0 0 0]\n",
      " [0 1 1 ... 0 0 0]\n",
      " ...\n",
      " [0 0 0 ... 0 0 0]\n",
      " [0 0 0 ... 0 0 0]\n",
      " [0 0 0 ... 0 0 0]]               precision    recall  f1-score   support\n",
      "\n",
      "          47       0.25      0.33      0.29         3\n",
      "          48       0.43      0.27      0.33        11\n",
      "          49       0.07      0.12      0.09         8\n",
      "          50       0.40      0.52      0.45        23\n",
      "          51       0.52      0.38      0.44        37\n",
      "          52       0.44      0.39      0.41        46\n",
      "          53       0.35      0.39      0.37        41\n",
      "          54       0.23      0.25      0.24        36\n",
      "          55       0.44      0.42      0.43        66\n",
      "          56       0.35      0.33      0.34        63\n",
      "          57       0.52      0.52      0.52        96\n",
      "          58       0.50      0.48      0.49       105\n",
      "          59       0.59      0.45      0.51       107\n",
      "          60       0.60      0.65      0.62       161\n",
      "          61       0.50      0.57      0.53       148\n",
      "          62       0.59      0.51      0.55       210\n",
      "          63       0.62      0.62      0.62       233\n",
      "          64       0.64      0.64      0.64       219\n",
      "          65       0.62      0.70      0.66       226\n",
      "          66       0.72      0.67      0.70       244\n",
      "          67       0.72      0.69      0.71       247\n",
      "          68       0.70      0.73      0.72       203\n",
      "          69       0.70      0.74      0.72       191\n",
      "          70       0.77      0.77      0.77       176\n",
      "          71       0.74      0.71      0.72       146\n",
      "          72       0.73      0.73      0.73       152\n",
      "          73       0.74      0.80      0.77       115\n",
      "          74       0.80      0.74      0.77        90\n",
      "          75       0.63      0.80      0.70        92\n",
      "          76       0.80      0.50      0.62        66\n",
      "          77       0.78      0.71      0.74        69\n",
      "          78       0.54      0.86      0.67        29\n",
      "          79       0.51      0.69      0.59        26\n",
      "          80       0.63      0.38      0.47        32\n",
      "          81       0.56      0.43      0.49        21\n",
      "          82       0.33      0.44      0.38         9\n",
      "          83       0.56      0.62      0.59         8\n",
      "          84       0.20      0.08      0.11        13\n",
      "          85       0.30      0.75      0.43         4\n",
      "          86       0.50      0.50      0.50         4\n",
      "          87       0.56      0.62      0.59         8\n",
      "          88       0.00      0.00      0.00         1\n",
      "          89       0.00      0.00      0.00         1\n",
      "          90       0.00      0.00      0.00         1\n",
      "          91       0.00      0.00      0.00         1\n",
      "          93       0.00      0.00      0.00         1\n",
      "\n",
      "    accuracy                           0.63      3789\n",
      "   macro avg       0.48      0.49      0.48      3789\n",
      "weighted avg       0.63      0.63      0.63      3789\n",
      "\n"
     ]
    },
    {
     "name": "stderr",
     "output_type": "stream",
     "text": [
      "/opt/anaconda3/lib/python3.11/site-packages/sklearn/metrics/_classification.py:1344: UndefinedMetricWarning: Precision and F-score are ill-defined and being set to 0.0 in labels with no predicted samples. Use `zero_division` parameter to control this behavior.\n",
      "  _warn_prf(average, modifier, msg_start, len(result))\n",
      "/opt/anaconda3/lib/python3.11/site-packages/sklearn/metrics/_classification.py:1344: UndefinedMetricWarning: Precision and F-score are ill-defined and being set to 0.0 in labels with no predicted samples. Use `zero_division` parameter to control this behavior.\n",
      "  _warn_prf(average, modifier, msg_start, len(result))\n",
      "/opt/anaconda3/lib/python3.11/site-packages/sklearn/metrics/_classification.py:1344: UndefinedMetricWarning: Precision and F-score are ill-defined and being set to 0.0 in labels with no predicted samples. Use `zero_division` parameter to control this behavior.\n",
      "  _warn_prf(average, modifier, msg_start, len(result))\n"
     ]
    }
   ],
   "source": [
    "for model in (ada,gb):\n",
    " model.fit(Xtrain, Ytrain)\n",
    " pkl.dump(model, open('./' + model.__class__.__name__ + '.pkl', 'wb'))\n",
    " y_pred = model.predict(Xtest)\n",
    " print(model.__class__.__name__, confusion_matrix(Ytest, y_pred), classification_report(Ytest, y_pred))"
   ]
  },
  {
   "cell_type": "markdown",
   "id": "d0773248-50ec-49f1-b5ba-c0f352b42b7c",
   "metadata": {},
   "source": [
    "### Ensemble Modelling\n",
    "**Modelling techniques used:**\n",
    "* RandomForest"
   ]
  },
  {
   "cell_type": "markdown",
   "id": "39d85581-1839-4668-aeab-9757d5f793ee",
   "metadata": {
    "tags": []
   },
   "source": [
    "#### RandomForest"
   ]
  },
  {
   "cell_type": "code",
   "execution_count": 91,
   "id": "a795e94e-83e7-4a36-be45-54c0c0a911cf",
   "metadata": {},
   "outputs": [],
   "source": [
    "import pickle\n",
    "from sklearn.model_selection import train_test_split\n",
    "from sklearn.ensemble import RandomForestClassifier\n",
    "from sklearn.metrics import accuracy_score, classification_report, confusion_matrix"
   ]
  },
  {
   "cell_type": "code",
   "execution_count": 94,
   "id": "2c161925-2aaf-4d37-b597-97619a80f55b",
   "metadata": {
    "tags": []
   },
   "outputs": [
    {
     "data": {
      "text/html": [
       "<style>#sk-container-id-5 {color: black;background-color: white;}#sk-container-id-5 pre{padding: 0;}#sk-container-id-5 div.sk-toggleable {background-color: white;}#sk-container-id-5 label.sk-toggleable__label {cursor: pointer;display: block;width: 100%;margin-bottom: 0;padding: 0.3em;box-sizing: border-box;text-align: center;}#sk-container-id-5 label.sk-toggleable__label-arrow:before {content: \"▸\";float: left;margin-right: 0.25em;color: #696969;}#sk-container-id-5 label.sk-toggleable__label-arrow:hover:before {color: black;}#sk-container-id-5 div.sk-estimator:hover label.sk-toggleable__label-arrow:before {color: black;}#sk-container-id-5 div.sk-toggleable__content {max-height: 0;max-width: 0;overflow: hidden;text-align: left;background-color: #f0f8ff;}#sk-container-id-5 div.sk-toggleable__content pre {margin: 0.2em;color: black;border-radius: 0.25em;background-color: #f0f8ff;}#sk-container-id-5 input.sk-toggleable__control:checked~div.sk-toggleable__content {max-height: 200px;max-width: 100%;overflow: auto;}#sk-container-id-5 input.sk-toggleable__control:checked~label.sk-toggleable__label-arrow:before {content: \"▾\";}#sk-container-id-5 div.sk-estimator input.sk-toggleable__control:checked~label.sk-toggleable__label {background-color: #d4ebff;}#sk-container-id-5 div.sk-label input.sk-toggleable__control:checked~label.sk-toggleable__label {background-color: #d4ebff;}#sk-container-id-5 input.sk-hidden--visually {border: 0;clip: rect(1px 1px 1px 1px);clip: rect(1px, 1px, 1px, 1px);height: 1px;margin: -1px;overflow: hidden;padding: 0;position: absolute;width: 1px;}#sk-container-id-5 div.sk-estimator {font-family: monospace;background-color: #f0f8ff;border: 1px dotted black;border-radius: 0.25em;box-sizing: border-box;margin-bottom: 0.5em;}#sk-container-id-5 div.sk-estimator:hover {background-color: #d4ebff;}#sk-container-id-5 div.sk-parallel-item::after {content: \"\";width: 100%;border-bottom: 1px solid gray;flex-grow: 1;}#sk-container-id-5 div.sk-label:hover label.sk-toggleable__label {background-color: #d4ebff;}#sk-container-id-5 div.sk-serial::before {content: \"\";position: absolute;border-left: 1px solid gray;box-sizing: border-box;top: 0;bottom: 0;left: 50%;z-index: 0;}#sk-container-id-5 div.sk-serial {display: flex;flex-direction: column;align-items: center;background-color: white;padding-right: 0.2em;padding-left: 0.2em;position: relative;}#sk-container-id-5 div.sk-item {position: relative;z-index: 1;}#sk-container-id-5 div.sk-parallel {display: flex;align-items: stretch;justify-content: center;background-color: white;position: relative;}#sk-container-id-5 div.sk-item::before, #sk-container-id-5 div.sk-parallel-item::before {content: \"\";position: absolute;border-left: 1px solid gray;box-sizing: border-box;top: 0;bottom: 0;left: 50%;z-index: -1;}#sk-container-id-5 div.sk-parallel-item {display: flex;flex-direction: column;z-index: 1;position: relative;background-color: white;}#sk-container-id-5 div.sk-parallel-item:first-child::after {align-self: flex-end;width: 50%;}#sk-container-id-5 div.sk-parallel-item:last-child::after {align-self: flex-start;width: 50%;}#sk-container-id-5 div.sk-parallel-item:only-child::after {width: 0;}#sk-container-id-5 div.sk-dashed-wrapped {border: 1px dashed gray;margin: 0 0.4em 0.5em 0.4em;box-sizing: border-box;padding-bottom: 0.4em;background-color: white;}#sk-container-id-5 div.sk-label label {font-family: monospace;font-weight: bold;display: inline-block;line-height: 1.2em;}#sk-container-id-5 div.sk-label-container {text-align: center;}#sk-container-id-5 div.sk-container {/* jupyter's `normalize.less` sets `[hidden] { display: none; }` but bootstrap.min.css set `[hidden] { display: none !important; }` so we also need the `!important` here to be able to override the default hidden behavior on the sphinx rendered scikit-learn.org. See: https://github.com/scikit-learn/scikit-learn/issues/21755 */display: inline-block !important;position: relative;}#sk-container-id-5 div.sk-text-repr-fallback {display: none;}</style><div id=\"sk-container-id-5\" class=\"sk-top-container\"><div class=\"sk-text-repr-fallback\"><pre>RandomForestClassifier(n_estimators=10, random_state=42)</pre><b>In a Jupyter environment, please rerun this cell to show the HTML representation or trust the notebook. <br />On GitHub, the HTML representation is unable to render, please try loading this page with nbviewer.org.</b></div><div class=\"sk-container\" hidden><div class=\"sk-item\"><div class=\"sk-estimator sk-toggleable\"><input class=\"sk-toggleable__control sk-hidden--visually\" id=\"sk-estimator-id-5\" type=\"checkbox\" checked><label for=\"sk-estimator-id-5\" class=\"sk-toggleable__label sk-toggleable__label-arrow\">RandomForestClassifier</label><div class=\"sk-toggleable__content\"><pre>RandomForestClassifier(n_estimators=10, random_state=42)</pre></div></div></div></div></div>"
      ],
      "text/plain": [
       "RandomForestClassifier(n_estimators=10, random_state=42)"
      ]
     },
     "execution_count": 94,
     "metadata": {},
     "output_type": "execute_result"
    }
   ],
   "source": [
    "rf_model = RandomForestClassifier(n_estimators=10, random_state=42)\n",
    "rf_model.fit(Xtrain, Ytrain)"
   ]
  },
  {
   "cell_type": "code",
   "execution_count": 93,
   "id": "feede290-fec9-4d61-917f-e8f36d42df39",
   "metadata": {
    "tags": []
   },
   "outputs": [
    {
     "name": "stdout",
     "output_type": "stream",
     "text": [
      "Accuracy: 0.6125626814462919\n",
      "Classification Report:\n",
      "              precision    recall  f1-score   support\n",
      "\n",
      "          47       0.50      0.33      0.40         3\n",
      "          48       0.00      0.00      0.00        11\n",
      "          49       0.00      0.00      0.00         8\n",
      "          50       0.39      0.48      0.43        23\n",
      "          51       0.52      0.59      0.56        37\n",
      "          52       0.47      0.37      0.41        46\n",
      "          53       0.30      0.44      0.36        41\n",
      "          54       0.25      0.28      0.26        36\n",
      "          55       0.41      0.29      0.34        66\n",
      "          56       0.39      0.38      0.38        63\n",
      "          57       0.45      0.40      0.42        96\n",
      "          58       0.43      0.51      0.47       105\n",
      "          59       0.53      0.36      0.43       107\n",
      "          60       0.54      0.63      0.58       161\n",
      "          61       0.49      0.51      0.50       148\n",
      "          62       0.58      0.49      0.53       210\n",
      "          63       0.59      0.60      0.59       233\n",
      "          64       0.60      0.66      0.63       219\n",
      "          65       0.66      0.66      0.66       226\n",
      "          66       0.69      0.69      0.69       244\n",
      "          67       0.71      0.65      0.68       247\n",
      "          68       0.64      0.71      0.67       203\n",
      "          69       0.72      0.69      0.71       191\n",
      "          70       0.74      0.80      0.77       176\n",
      "          71       0.76      0.70      0.73       146\n",
      "          72       0.77      0.76      0.76       152\n",
      "          73       0.73      0.83      0.77       115\n",
      "          74       0.78      0.74      0.76        90\n",
      "          75       0.63      0.83      0.72        92\n",
      "          76       0.73      0.48      0.58        66\n",
      "          77       0.81      0.61      0.69        69\n",
      "          78       0.56      0.86      0.68        29\n",
      "          79       0.43      0.62      0.51        26\n",
      "          80       0.63      0.38      0.47        32\n",
      "          81       0.53      0.38      0.44        21\n",
      "          82       0.44      0.44      0.44         9\n",
      "          83       0.25      0.50      0.33         8\n",
      "          84       0.50      0.08      0.13        13\n",
      "          85       0.29      1.00      0.44         4\n",
      "          86       0.00      0.00      0.00         4\n",
      "          87       1.00      0.38      0.55         8\n",
      "          88       0.00      0.00      0.00         1\n",
      "          89       0.00      0.00      0.00         1\n",
      "          90       0.50      1.00      0.67         1\n",
      "          91       0.00      0.00      0.00         1\n",
      "          92       0.00      0.00      0.00         0\n",
      "          93       0.00      0.00      0.00         1\n",
      "\n",
      "    accuracy                           0.61      3789\n",
      "   macro avg       0.47      0.47      0.45      3789\n",
      "weighted avg       0.62      0.61      0.61      3789\n",
      "\n",
      "Confusion Matrix:\n",
      "[[1 0 0 ... 0 0 0]\n",
      " [1 0 3 ... 0 0 0]\n",
      " [0 2 0 ... 0 0 0]\n",
      " ...\n",
      " [0 0 0 ... 0 0 0]\n",
      " [0 0 0 ... 0 0 0]\n",
      " [0 0 0 ... 0 1 0]]\n"
     ]
    },
    {
     "name": "stderr",
     "output_type": "stream",
     "text": [
      "/opt/anaconda3/lib/python3.11/site-packages/sklearn/metrics/_classification.py:1344: UndefinedMetricWarning: Precision and F-score are ill-defined and being set to 0.0 in labels with no predicted samples. Use `zero_division` parameter to control this behavior.\n",
      "  _warn_prf(average, modifier, msg_start, len(result))\n",
      "/opt/anaconda3/lib/python3.11/site-packages/sklearn/metrics/_classification.py:1344: UndefinedMetricWarning: Recall and F-score are ill-defined and being set to 0.0 in labels with no true samples. Use `zero_division` parameter to control this behavior.\n",
      "  _warn_prf(average, modifier, msg_start, len(result))\n",
      "/opt/anaconda3/lib/python3.11/site-packages/sklearn/metrics/_classification.py:1344: UndefinedMetricWarning: Precision and F-score are ill-defined and being set to 0.0 in labels with no predicted samples. Use `zero_division` parameter to control this behavior.\n",
      "  _warn_prf(average, modifier, msg_start, len(result))\n",
      "/opt/anaconda3/lib/python3.11/site-packages/sklearn/metrics/_classification.py:1344: UndefinedMetricWarning: Recall and F-score are ill-defined and being set to 0.0 in labels with no true samples. Use `zero_division` parameter to control this behavior.\n",
      "  _warn_prf(average, modifier, msg_start, len(result))\n",
      "/opt/anaconda3/lib/python3.11/site-packages/sklearn/metrics/_classification.py:1344: UndefinedMetricWarning: Precision and F-score are ill-defined and being set to 0.0 in labels with no predicted samples. Use `zero_division` parameter to control this behavior.\n",
      "  _warn_prf(average, modifier, msg_start, len(result))\n",
      "/opt/anaconda3/lib/python3.11/site-packages/sklearn/metrics/_classification.py:1344: UndefinedMetricWarning: Recall and F-score are ill-defined and being set to 0.0 in labels with no true samples. Use `zero_division` parameter to control this behavior.\n",
      "  _warn_prf(average, modifier, msg_start, len(result))\n"
     ]
    }
   ],
   "source": [
    "y_pred = rf_model.predict(Xtest)\n",
    "accuracy = accuracy_score(Ytest, y_pred)\n",
    "print(\"Accuracy:\", accuracy)\n",
    "print(\"Classification Report:\")\n",
    "print(classification_report(Ytest, y_pred))\n",
    "print(\"Confusion Matrix:\")\n",
    "print(confusion_matrix(Ytest, y_pred))"
   ]
  },
  {
   "cell_type": "code",
   "execution_count": 71,
   "id": "05c24ee4-9297-4a4a-9e7c-1e8504b8378b",
   "metadata": {
    "tags": []
   },
   "outputs": [
    {
     "name": "stdout",
     "output_type": "stream",
     "text": [
      "Model saved as rf_model.pkl\n"
     ]
    }
   ],
   "source": [
    "with open('rf_model.pkl', 'wb') as model_file:\n",
    "    pickle.dump(rf_model, model_file)\n",
    "\n",
    "print(\"Model saved as rf_model.pkl\")"
   ]
  },
  {
   "cell_type": "markdown",
   "id": "eb12c4a2-6c6f-4e08-af1a-48cbd49089c0",
   "metadata": {},
   "source": [
    "### Hyperparameter tuning"
   ]
  },
  {
   "cell_type": "code",
   "execution_count": 448,
   "id": "760e745d-56e9-44f3-a122-aee35d0cb3ad",
   "metadata": {
    "tags": []
   },
   "outputs": [],
   "source": [
    "from sklearn.ensemble import AdaBoostRegressor, RandomForestRegressor\n",
    "from sklearn.model_selection import GridSearchCV\n",
    "from sklearn.metrics import mean_squared_error, r2_score"
   ]
  },
  {
   "cell_type": "code",
   "execution_count": null,
   "id": "1ec32f2f-e253-4f55-b60c-2e02211d2879",
   "metadata": {
    "tags": []
   },
   "outputs": [
    {
     "name": "stderr",
     "output_type": "stream",
     "text": [
      "/opt/anaconda3/lib/python3.11/site-packages/sklearn/ensemble/_base.py:166: FutureWarning: `base_estimator` was renamed to `estimator` in version 1.2 and will be removed in 1.4.\n",
      "  warnings.warn(\n",
      "/opt/anaconda3/lib/python3.11/site-packages/sklearn/ensemble/_base.py:166: FutureWarning: `base_estimator` was renamed to `estimator` in version 1.2 and will be removed in 1.4.\n",
      "  warnings.warn(\n",
      "/opt/anaconda3/lib/python3.11/site-packages/sklearn/ensemble/_base.py:166: FutureWarning: `base_estimator` was renamed to `estimator` in version 1.2 and will be removed in 1.4.\n",
      "  warnings.warn(\n",
      "/opt/anaconda3/lib/python3.11/site-packages/sklearn/ensemble/_base.py:166: FutureWarning: `base_estimator` was renamed to `estimator` in version 1.2 and will be removed in 1.4.\n",
      "  warnings.warn(\n",
      "/opt/anaconda3/lib/python3.11/site-packages/sklearn/ensemble/_base.py:166: FutureWarning: `base_estimator` was renamed to `estimator` in version 1.2 and will be removed in 1.4.\n",
      "  warnings.warn(\n",
      "/opt/anaconda3/lib/python3.11/site-packages/sklearn/ensemble/_base.py:166: FutureWarning: `base_estimator` was renamed to `estimator` in version 1.2 and will be removed in 1.4.\n",
      "  warnings.warn(\n",
      "/opt/anaconda3/lib/python3.11/site-packages/sklearn/ensemble/_base.py:166: FutureWarning: `base_estimator` was renamed to `estimator` in version 1.2 and will be removed in 1.4.\n",
      "  warnings.warn(\n",
      "/opt/anaconda3/lib/python3.11/site-packages/sklearn/ensemble/_base.py:166: FutureWarning: `base_estimator` was renamed to `estimator` in version 1.2 and will be removed in 1.4.\n",
      "  warnings.warn(\n",
      "/opt/anaconda3/lib/python3.11/site-packages/sklearn/ensemble/_base.py:166: FutureWarning: `base_estimator` was renamed to `estimator` in version 1.2 and will be removed in 1.4.\n",
      "  warnings.warn(\n",
      "/opt/anaconda3/lib/python3.11/site-packages/sklearn/ensemble/_base.py:166: FutureWarning: `base_estimator` was renamed to `estimator` in version 1.2 and will be removed in 1.4.\n",
      "  warnings.warn(\n",
      "/opt/anaconda3/lib/python3.11/site-packages/sklearn/ensemble/_base.py:166: FutureWarning: `base_estimator` was renamed to `estimator` in version 1.2 and will be removed in 1.4.\n",
      "  warnings.warn(\n",
      "/opt/anaconda3/lib/python3.11/site-packages/sklearn/ensemble/_base.py:166: FutureWarning: `base_estimator` was renamed to `estimator` in version 1.2 and will be removed in 1.4.\n",
      "  warnings.warn(\n",
      "/opt/anaconda3/lib/python3.11/site-packages/sklearn/ensemble/_base.py:166: FutureWarning: `base_estimator` was renamed to `estimator` in version 1.2 and will be removed in 1.4.\n",
      "  warnings.warn(\n",
      "/opt/anaconda3/lib/python3.11/site-packages/sklearn/ensemble/_base.py:166: FutureWarning: `base_estimator` was renamed to `estimator` in version 1.2 and will be removed in 1.4.\n",
      "  warnings.warn(\n",
      "/opt/anaconda3/lib/python3.11/site-packages/sklearn/ensemble/_base.py:166: FutureWarning: `base_estimator` was renamed to `estimator` in version 1.2 and will be removed in 1.4.\n",
      "  warnings.warn(\n",
      "/opt/anaconda3/lib/python3.11/site-packages/sklearn/ensemble/_base.py:166: FutureWarning: `base_estimator` was renamed to `estimator` in version 1.2 and will be removed in 1.4.\n",
      "  warnings.warn(\n",
      "/opt/anaconda3/lib/python3.11/site-packages/sklearn/ensemble/_base.py:166: FutureWarning: `base_estimator` was renamed to `estimator` in version 1.2 and will be removed in 1.4.\n",
      "  warnings.warn(\n",
      "/opt/anaconda3/lib/python3.11/site-packages/sklearn/ensemble/_base.py:166: FutureWarning: `base_estimator` was renamed to `estimator` in version 1.2 and will be removed in 1.4.\n",
      "  warnings.warn(\n"
     ]
    }
   ],
   "source": [
    "from sklearn.model_selection import RandomizedSearchCV\n",
    "\n",
    "# Define base estimator\n",
    "rf_base_estimator = RandomForestRegressor()\n",
    "\n",
    "# Create ensemble model\n",
    "ensemble = AdaBoostRegressor(base_estimator=rf_base_estimator)\n",
    "\n",
    "# Define hyperparameter distributions\n",
    "param_distributions = {\n",
    "    'n_estimators': [50, 100, 200],\n",
    "    'learning_rate': [0.01, 0.1, 1],\n",
    "    'base_estimator__n_estimators': [100, 200, 300],\n",
    "    'base_estimator__max_depth': [None, 10, 20]\n",
    "}\n",
    "\n",
    "# Create RandomizedSearchCV object\n",
    "random_search = RandomizedSearchCV(ensemble, param_distributions, n_iter=10, cv=5, scoring='neg_mean_squared_error', n_jobs=-1)\n",
    "\n",
    "# Fit RandomizedSearchCV\n",
    "random_search.fit(Xtrain, Ytrain)\n",
    "\n",
    "# Make predictions\n",
    "y_pred = random_search.predict(Xtest)\n",
    "\n",
    "# Evaluate the model\n",
    "mse = mean_squared_error(Ytest, y_pred)\n",
    "r2 = r2_score(Ytest, y_pred)\n",
    "\n",
    "print(f\"Mean Squared Error: {mse}\")\n",
    "print(f\"R-squared Score: {r2}\")"
   ]
  },
  {
   "cell_type": "code",
   "execution_count": null,
   "id": "c72d00b1-5511-41a4-9067-9c02bcb250e5",
   "metadata": {
    "tags": []
   },
   "outputs": [],
   "source": [
    "# Retrieve feature importances from the best estimator\n",
    "importances = grid_search.best_estimator_.base_estimator.feature_importances_\n",
    "\n",
    "# Create an array of feature names\n",
    "feature_names = np.array([f\"feature_{i}\" for i in range(X.shape[1])])\n",
    "\n",
    "# Create a DataFrame with feature names and importances\n",
    "feature_importances = pd.DataFrame({'feature': feature_names, 'importance': importances})\n",
    "\n",
    "# Sort the DataFrame by importance\n",
    "feature_importances = feature_importances.sort_values('importance', ascending=False)\n",
    "\n",
    "# Print top 20 important features\n",
    "print(feature_importances.head(20))"
   ]
  },
  {
   "cell_type": "code",
   "execution_count": 73,
   "id": "99602e74-050b-44d3-869c-bdcc354bd776",
   "metadata": {},
   "outputs": [],
   "source": [
    "# pip install streamlit"
   ]
  }
 ],
 "metadata": {
  "colab": {
   "provenance": []
  },
  "kernelspec": {
   "display_name": "Python 3 (ipykernel)",
   "language": "python",
   "name": "python3"
  },
  "language_info": {
   "codemirror_mode": {
    "name": "ipython",
    "version": 3
   },
   "file_extension": ".py",
   "mimetype": "text/x-python",
   "name": "python",
   "nbconvert_exporter": "python",
   "pygments_lexer": "ipython3",
   "version": "3.11.7"
  }
 },
 "nbformat": 4,
 "nbformat_minor": 5
}
